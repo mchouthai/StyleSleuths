{
 "cells": [
  {
   "cell_type": "code",
   "execution_count": 10,
   "metadata": {},
   "outputs": [],
   "source": [
    "import os\n",
    "import cv2\n",
    "import numpy as np\n",
    "import matplotlib\n",
    "from matplotlib import image\n",
    "import matplotlib.pyplot as plt\n",
    "import math\n",
    "\n",
    "img_rgb = np.load(\"mini_data/images_rgb.npy\")\n",
    "img_gray = np.load(\"mini_data/images_gray.npy\")\n",
    "img_rgb_sum = np.load(\"mini_data/images_rgbsum.npy\")\n",
    "\n",
    "#print(np.shape(img_rgb[228][0]))\n",
    "\n",
    "def calcSqDistances(X,Kmus):\n",
    "  N = np.shape(X)[0]\n",
    "  K = np.shape(Kmus)[0]\n",
    "  dist_array = np.zeros((N,K), dtype = np.float64)\n",
    "  for i in range(N):\n",
    "   for j in range(K):\n",
    "    dist_array[i,j] = np.linalg.norm(X[i] - Kmus[j])\n",
    "  return dist_array\n",
    "  #return((-2 * X @ Kmus.T + np.sum(Kmus * Kmus, axis = 1).T).T + np.sum(X * X, axis = 1)).T\n",
    "\n",
    "def determineRnk(sqDmat):\n",
    "  low = np.argmin(sqDmat, axis = 1)\n",
    "  rnk = np.identity(sqDmat.shape[1])[low]\n",
    "  return rnk\n",
    "\n",
    "def recalcMus(X, Rnk):\n",
    "    Kmus = np.zeros((len(Rnk[0]), 2))\n",
    "    return (np.divide(X.T.dot(Rnk), np.sum(Rnk, axis=0))).T\n",
    "\n",
    "def runKMeans(K):\n",
    "    X = img_rgb\n",
    "    N = np.shape(X)[0]\n",
    "    D = np.shape(X)[1]\n",
    "\n",
    "    Kmus = np.zeros((K,D))\n",
    "\n",
    "    rand_inds = np.random.permutation(N)\n",
    "    Kmus = X[rand_inds[0:K],:]\n",
    "    \n",
    "\n",
    "    for itr in range(100):\n",
    "        X = X.reshape((X.shape[1]*X.shape[0], 3))\n",
    "        distmat = calcSqDistances(X, Kmus)\n",
    "\n",
    "        rnk = determineRnk(distmat)\n",
    "\n",
    "        mus_old = Kmus\n",
    "        Kmus = recalcMus(X, rnk)\n",
    "        if np.sum(np.abs(mus_old.reshape((-1,1)) - Kmus.reshape((-1,1)))) < 1e-6:\n",
    "            break\n",
    "\n",
    "    return Kmus\n",
    "\n",
    "def get_cluster_plot(Kmus, rows = 2): \n",
    "    '''\n",
    "    : get a plot of what different clusters represent\n",
    "    : takes as input the cluster location matrix\n",
    "    '''\n",
    "    fig,axs = plt.subplots(rows,5, figsize = (15,9))\n",
    "    for i in range(len(Kmus)):\n",
    "        cluster = Kmus[i].reshape(384, 512) \n",
    "        axs[i//5][i%5].imshow(cluster, cmap = plt.cm.binary)\n",
    "        axs[i//5][i%5].set_title(f'Cluster {i + 1}')\n"
   ]
  },
  {
   "cell_type": "code",
   "execution_count": 11,
   "metadata": {},
   "outputs": [
    {
     "ename": "ValueError",
     "evalue": "cannot reshape array of size 45023232 into shape (65536,3)",
     "output_type": "error",
     "traceback": [
      "\u001b[1;31m---------------------------------------------------------------------------\u001b[0m",
      "\u001b[1;31mValueError\u001b[0m                                Traceback (most recent call last)",
      "\u001b[1;32mc:\\Users\\Bateleil\\Documents\\GitHub\\StyleSleuths\\KMeans_Base_for_RGB.ipynb Cell 2'\u001b[0m in \u001b[0;36m<cell line: 1>\u001b[1;34m()\u001b[0m\n\u001b[1;32m----> <a href='vscode-notebook-cell:/c%3A/Users/Bateleil/Documents/GitHub/StyleSleuths/KMeans_Base_for_RGB.ipynb#ch0000001?line=0'>1</a>\u001b[0m test \u001b[39m=\u001b[39m runKMeans(\u001b[39m10\u001b[39;49m)\n\u001b[0;32m      <a href='vscode-notebook-cell:/c%3A/Users/Bateleil/Documents/GitHub/StyleSleuths/KMeans_Base_for_RGB.ipynb#ch0000001?line=1'>2</a>\u001b[0m \u001b[39mprint\u001b[39m(np\u001b[39m.\u001b[39mshape(test[\u001b[39m5\u001b[39m]))\n\u001b[0;32m      <a href='vscode-notebook-cell:/c%3A/Users/Bateleil/Documents/GitHub/StyleSleuths/KMeans_Base_for_RGB.ipynb#ch0000001?line=2'>3</a>\u001b[0m get_cluster_plot(test)\n",
      "\u001b[1;32mc:\\Users\\Bateleil\\Documents\\GitHub\\StyleSleuths\\KMeans_Base_for_RGB.ipynb Cell 1'\u001b[0m in \u001b[0;36mrunKMeans\u001b[1;34m(K)\u001b[0m\n\u001b[0;32m     <a href='vscode-notebook-cell:/c%3A/Users/Bateleil/Documents/GitHub/StyleSleuths/KMeans_Base_for_RGB.ipynb#ch0000000?line=41'>42</a>\u001b[0m Kmus \u001b[39m=\u001b[39m X[rand_inds[\u001b[39m0\u001b[39m:K],:]\n\u001b[0;32m     <a href='vscode-notebook-cell:/c%3A/Users/Bateleil/Documents/GitHub/StyleSleuths/KMeans_Base_for_RGB.ipynb#ch0000000?line=44'>45</a>\u001b[0m \u001b[39mfor\u001b[39;00m itr \u001b[39min\u001b[39;00m \u001b[39mrange\u001b[39m(\u001b[39m100\u001b[39m):\n\u001b[1;32m---> <a href='vscode-notebook-cell:/c%3A/Users/Bateleil/Documents/GitHub/StyleSleuths/KMeans_Base_for_RGB.ipynb#ch0000000?line=45'>46</a>\u001b[0m     X \u001b[39m=\u001b[39m X\u001b[39m.\u001b[39;49mreshape((X\u001b[39m.\u001b[39;49mshape[\u001b[39m2\u001b[39;49m]\u001b[39m*\u001b[39;49mX\u001b[39m.\u001b[39;49mshape[\u001b[39m1\u001b[39;49m], \u001b[39m3\u001b[39;49m))\n\u001b[0;32m     <a href='vscode-notebook-cell:/c%3A/Users/Bateleil/Documents/GitHub/StyleSleuths/KMeans_Base_for_RGB.ipynb#ch0000000?line=46'>47</a>\u001b[0m     distmat \u001b[39m=\u001b[39m calcSqDistances(X, Kmus)\n\u001b[0;32m     <a href='vscode-notebook-cell:/c%3A/Users/Bateleil/Documents/GitHub/StyleSleuths/KMeans_Base_for_RGB.ipynb#ch0000000?line=48'>49</a>\u001b[0m     rnk \u001b[39m=\u001b[39m determineRnk(distmat)\n",
      "\u001b[1;31mValueError\u001b[0m: cannot reshape array of size 45023232 into shape (65536,3)"
     ]
    }
   ],
   "source": [
    "test = runKMeans(10)\n",
    "print(np.shape(test[5]))\n",
    "get_cluster_plot(test)"
   ]
  }
 ],
 "metadata": {
  "kernelspec": {
   "display_name": "Python 3",
   "language": "python",
   "name": "python3"
  },
  "language_info": {
   "codemirror_mode": {
    "name": "ipython",
    "version": 3
   },
   "file_extension": ".py",
   "mimetype": "text/x-python",
   "name": "python",
   "nbconvert_exporter": "python",
   "pygments_lexer": "ipython3",
   "version": "3.9.10"
  }
 },
 "nbformat": 4,
 "nbformat_minor": 4
}
