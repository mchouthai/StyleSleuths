{
 "cells": [
  {
   "cell_type": "code",
   "execution_count": 1,
   "metadata": {},
   "outputs": [],
   "source": [
    "import numpy as np\n",
    "import matplotlib.pyplot as plt\n",
    "from tqdm import tqdm\n",
    "\n",
    "def calcSqDistances(X,Kmus):\n",
    "  #N = np.shape(X)[0]\n",
    "  #K = np.shape(Kmus)[0]\n",
    "  #dist_array = np.zeros((N,K), dtype = np.float64)\n",
    "  #for i in range(N):\n",
    "   #for j in range(K):\n",
    "    #dist_array[i,j] = np.linalg.norm(X[i] - Kmus[j])\n",
    "  return((-2 * X @ Kmus.T + np.sum(Kmus * Kmus, axis = 1).T).T + np.sum(X * X, axis = 1)).T\n",
    "\n",
    "def determineRnk(sqDmat):\n",
    "  low = np.argmin(sqDmat, axis = 1)\n",
    "  rnk = np.identity(sqDmat.shape[1])[low]\n",
    "  return rnk\n",
    "\n",
    "def recalcMus(X, Rnk):\n",
    "    Kmus = np.zeros((len(Rnk[0]), 2))\n",
    "    return (np.divide(X.T.dot(Rnk), np.sum(Rnk, axis=0))).T\n",
    "\n",
    "def runKMeans(K):\n",
    "    X = train_set\n",
    "    N = np.shape(X)[0]\n",
    "    D = np.shape(X)[1]\n",
    "\n",
    "    Kmus = np.zeros((K,D))\n",
    "\n",
    "    rand_inds = np.random.permutation(N)\n",
    "    Kmus = X[rand_inds[0:K],:]\n",
    "\n",
    "    for itr in range(1000):\n",
    "        distmat = calcSqDistances(X, Kmus)\n",
    "\n",
    "        rnk = determineRnk(distmat)\n",
    "\n",
    "        mus_old = Kmus\n",
    "        Kmus = recalcMus(X, rnk)\n",
    "        if np.sum(np.abs(mus_old.reshape((-1,1)) - Kmus.reshape((-1,1)))) < 1e-6:\n",
    "            break\n",
    "\n",
    "    return Kmus\n",
    "\n",
    "def get_cluster_plot(Kmus, rows = 2): \n",
    "    '''\n",
    "    : get a plot of what different clusters represent\n",
    "    : takes as input the cluster location matrix\n",
    "    '''\n",
    "    fig,axs = plt.subplots(rows,5, figsize = (15,9))\n",
    "    for i in range(len(Kmus)):\n",
    "        cluster = Kmus[i].reshape(28,-1) * 255\n",
    "        axs[i//5][i%5].imshow(cluster, cmap = plt.cm.binary)\n",
    "        axs[i//5][i%5].set_title(f'Cluster {i + 1}')\n"
   ]
  },
  {
   "cell_type": "code",
   "execution_count": null,
   "metadata": {},
   "outputs": [],
   "source": []
  }
 ],
 "metadata": {
  "kernelspec": {
   "display_name": "Python 3",
   "language": "python",
   "name": "python3"
  },
  "language_info": {
   "codemirror_mode": {
    "name": "ipython",
    "version": 3
   },
   "file_extension": ".py",
   "mimetype": "text/x-python",
   "name": "python",
   "nbconvert_exporter": "python",
   "pygments_lexer": "ipython3",
   "version": "3.8.5"
  }
 },
 "nbformat": 4,
 "nbformat_minor": 4
}
