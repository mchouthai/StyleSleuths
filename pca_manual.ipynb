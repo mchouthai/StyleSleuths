{
 "cells": [
  {
   "cell_type": "code",
   "execution_count": 1,
   "metadata": {},
   "outputs": [],
   "source": [
    "import numpy as np\n",
    "from numpy import linalg as la\n",
    "from sklearn.preprocessing import normalize\n",
    "import matplotlib.pyplot as plt"
   ]
  },
  {
   "cell_type": "code",
   "execution_count": 2,
   "metadata": {},
   "outputs": [],
   "source": [
    "def eigsort(V, eigvals):\n",
    "    \n",
    "    # Sort the eigenvalues from largest to smallest. Store the sorted\n",
    "    # eigenvalues in the column vector lambd.\n",
    "    lohival = np.sort(eigvals)\n",
    "    lohiindex = np.argsort(eigvals)\n",
    "    lambd = np.flip(lohival)\n",
    "    index = np.flip(lohiindex)\n",
    "    Dsort = np.diag(lambd)\n",
    "    \n",
    "    # Sort eigenvectors to correspond to the ordered eigenvalues. Store sorted\n",
    "    # eigenvectors as columns of the matrix vsort.\n",
    "    M = np.size(lambd)\n",
    "    Vsort = np.zeros((M, M))\n",
    "    for i in range(M):\n",
    "        Vsort[:,i] = V[:,index[i]]\n",
    "    return Vsort, Dsort"
   ]
  },
  {
   "cell_type": "code",
   "execution_count": 3,
   "metadata": {},
   "outputs": [],
   "source": [
    "def viewcolumn(columnvector):\n",
    "    plt.imshow(columnvector.reshape([l, l], order='F'), cmap=plt.get_cmap('gray'))"
   ]
  },
  {
   "cell_type": "code",
   "execution_count": 4,
   "metadata": {},
   "outputs": [],
   "source": [
    "rgb_data = np.load(\"mini_data_resized/images_rgb.npy\")\n",
    "N = rgb_data.shape[0]\n",
    "l = rgb_data.shape[1]\n",
    "K = 150\n",
    "\n",
    "channels = [rgb_data[:, :, :, 0], rgb_data[:, :, :, 1], rgb_data[:, :, :, 2]]"
   ]
  },
  {
   "cell_type": "code",
   "execution_count": 5,
   "metadata": {},
   "outputs": [],
   "source": [
    "def getPCA (channel, K=150):\n",
    "    mean = np.mean(channel, axis=0).astype(\"float32\")\n",
    "    Z = (channel - mean).astype(\"float32\")\n",
    "    meanf = np.reshape(mean, (l**2, 1))\n",
    "    Zf = np.reshape(Z, (N, l**2)).T\n",
    "    lam, V = la.eig(Zf.T@Zf)\n",
    "    V, D = eigsort(V, lam)\n",
    "    V = V[:, 0:K]\n",
    "    U = Zf @ V\n",
    "    U = normalize(U, norm='l2', axis=0)\n",
    "    return U.T"
   ]
  },
  {
   "cell_type": "code",
   "execution_count": 6,
   "metadata": {},
   "outputs": [],
   "source": [
    "pca_r = getPCA(channels[0])\n",
    "pca_g = getPCA(channels[1])\n",
    "pca_b = getPCA(channels[2])\n",
    "\n",
    "pca = np.dstack((pca_r, pca_g, pca_b))\n",
    "pca = np.reshape(pca, (K, l, l, 3))\n",
    "\n",
    "np.save(\"pca_rgb_manual\", pca)"
   ]
  },
  {
   "cell_type": "code",
   "execution_count": 7,
   "metadata": {},
   "outputs": [],
   "source": [
    "# c_r = U_r.T @ Zf_r[:,50][:,None]\n",
    "# z_r = U_r @ c_r + r_meanf\n",
    "# viewcolumn(z_r)"
   ]
  }
 ],
 "metadata": {
  "kernelspec": {
   "display_name": "Python 3",
   "language": "python",
   "name": "python3"
  },
  "language_info": {
   "codemirror_mode": {
    "name": "ipython",
    "version": 3
   },
   "file_extension": ".py",
   "mimetype": "text/x-python",
   "name": "python",
   "nbconvert_exporter": "python",
   "pygments_lexer": "ipython3",
   "version": "3.9.1"
  }
 },
 "nbformat": 4,
 "nbformat_minor": 4
}
